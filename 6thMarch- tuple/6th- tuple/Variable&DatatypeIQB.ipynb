{
 "cells": [
  {
   "cell_type": "code",
   "execution_count": 1,
   "id": "318d2d8b-1ef8-4d4e-bf82-878fb05efead",
   "metadata": {},
   "outputs": [
    {
     "name": "stdout",
     "output_type": "stream",
     "text": [
      "[2, 4]\n"
     ]
    }
   ],
   "source": [
    "x = [1, 2, 3, 4] \n",
    "y = filter(lambda a: a % 2 == 0, x) \n",
    "print(list(y)) "
   ]
  },
  {
   "cell_type": "code",
   "execution_count": 5,
   "id": "31e6770a-81d2-483e-8a53-a9dfc185219a",
   "metadata": {},
   "outputs": [
    {
     "name": "stdout",
     "output_type": "stream",
     "text": [
      "<built-in method pop of list object at 0x0000028E33B6D700>\n"
     ]
    }
   ],
   "source": [
    "list1 = ['a', 'b', 'g', 1, 5] \n",
    "print(list1.pop)  #cause pop is a function should be end with()"
   ]
  },
  {
   "cell_type": "code",
   "execution_count": 7,
   "id": "fe615bea-9a58-4a29-bd8a-144a0178ff4e",
   "metadata": {},
   "outputs": [
    {
     "name": "stdout",
     "output_type": "stream",
     "text": [
      "3\n"
     ]
    }
   ],
   "source": [
    "print(int(3.9)) "
   ]
  },
  {
   "cell_type": "code",
   "execution_count": 9,
   "id": "8c251053-3ba3-4da9-82aa-fe3530ca22cd",
   "metadata": {},
   "outputs": [
    {
     "name": "stdout",
     "output_type": "stream",
     "text": [
      "Python.py\n"
     ]
    }
   ],
   "source": [
    "a = 'Python' + \".py\" \n",
    "print(a)"
   ]
  },
  {
   "cell_type": "code",
   "execution_count": 13,
   "id": "71089d56-fd8a-49c9-9c69-f1b8109ad8a4",
   "metadata": {},
   "outputs": [
    {
     "name": "stdout",
     "output_type": "stream",
     "text": [
      "True "
     ]
    },
    {
     "ename": "ValueError",
     "evalue": "invalid literal for int() with base 10: '4.5'",
     "output_type": "error",
     "traceback": [
      "\u001b[1;31m---------------------------------------------------------------------------\u001b[0m",
      "\u001b[1;31mValueError\u001b[0m                                Traceback (most recent call last)",
      "Cell \u001b[1;32mIn[13], line 2\u001b[0m\n\u001b[0;32m      1\u001b[0m \u001b[38;5;28mprint\u001b[39m(\u001b[38;5;28mstr\u001b[39m(\u001b[38;5;28;01mTrue\u001b[39;00m), end\u001b[38;5;241m=\u001b[39m\u001b[38;5;124m\"\u001b[39m\u001b[38;5;124m \u001b[39m\u001b[38;5;124m\"\u001b[39m) \u001b[38;5;66;03m# This will print \"True\" followed by a space.\u001b[39;00m\n\u001b[1;32m----> 2\u001b[0m \u001b[38;5;28;43mint\u001b[39;49m\u001b[43m(\u001b[49m\u001b[38;5;124;43m\"\u001b[39;49m\u001b[38;5;124;43m4.5\u001b[39;49m\u001b[38;5;124;43m\"\u001b[39;49m\u001b[43m)\u001b[49m  \u001b[38;5;66;03m# This will raise a ValueError because \"4.5\" is not a valid integer string.\u001b[39;00m\n",
      "\u001b[1;31mValueError\u001b[0m: invalid literal for int() with base 10: '4.5'"
     ]
    }
   ],
   "source": [
    "print(str(True), end=\" \") # This will print \"True\" followed by a space.\n",
    "int(\"4.5\")  # This will raise a ValueError because \"4.5\" is not a valid integer string. True value syntax error"
   ]
  },
  {
   "cell_type": "code",
   "execution_count": 17,
   "id": "5a6bf4cc-2169-4827-aece-df443f427eb0",
   "metadata": {},
   "outputs": [
    {
     "name": "stdout",
     "output_type": "stream",
     "text": [
      "ello\n"
     ]
    }
   ],
   "source": [
    "name = 'Hello, world!'\n",
    "print(name[1:5])"
   ]
  },
  {
   "cell_type": "code",
   "execution_count": 19,
   "id": "f0493b8b-7e1b-49a3-96f3-b5d1af1e4cc7",
   "metadata": {},
   "outputs": [
    {
     "name": "stdout",
     "output_type": "stream",
     "text": [
      "{1, 3, 4, 5, 6}\n"
     ]
    }
   ],
   "source": [
    "set1 = {1, 5, 6, 4, 3} \n",
    "print(set1) "
   ]
  },
  {
   "cell_type": "code",
   "execution_count": 21,
   "id": "7e35e7d5-65fe-4e86-8fbc-469a1f74c107",
   "metadata": {},
   "outputs": [
    {
     "name": "stdout",
     "output_type": "stream",
     "text": [
      "<class 'int'>\n"
     ]
    }
   ],
   "source": [
    "print(type(0xFF))"
   ]
  },
  {
   "cell_type": "code",
   "execution_count": 23,
   "id": "8ea94921-9ac1-4eb8-aa1b-171e9c5b0832",
   "metadata": {},
   "outputs": [
    {
     "name": "stdout",
     "output_type": "stream",
     "text": [
      "<class 'tuple'>\n"
     ]
    }
   ],
   "source": [
    "aTuple = (1, 'Jhon', 1+3j) \n",
    "print(type(aTuple[2:3])) "
   ]
  },
  {
   "cell_type": "code",
   "execution_count": 25,
   "id": "29a0baf4-5ad2-414d-b9b9-a247865948dc",
   "metadata": {},
   "outputs": [
    {
     "name": "stdout",
     "output_type": "stream",
     "text": [
      "False True True True\n"
     ]
    }
   ],
   "source": [
    "print(bool(0), bool(3.14159), bool(-3), bool(1.0+1j))"
   ]
  },
  {
   "cell_type": "code",
   "execution_count": 32,
   "id": "1b55f3d5-e09f-42ba-9214-284ebe0b5563",
   "metadata": {},
   "outputs": [
    {
     "name": "stdout",
     "output_type": "stream",
     "text": [
      "30\n"
     ]
    }
   ],
   "source": [
    "x = 10   \n",
    "y = \"20\"   \n",
    "print(x + int(y))"
   ]
  },
  {
   "cell_type": "code",
   "execution_count": 34,
   "id": "568276b1-4ae5-40c3-8c43-2d1ccc62af73",
   "metadata": {},
   "outputs": [
    {
     "name": "stdout",
     "output_type": "stream",
     "text": [
      "<class 'set'>\n"
     ]
    }
   ],
   "source": [
    "x = {\"apple\", \"banana\", \"cherry\"}   \n",
    "print(type(x))  "
   ]
  },
  {
   "cell_type": "code",
   "execution_count": 36,
   "id": "ca178d16-20a8-4f11-9ec6-9d81ce97d013",
   "metadata": {},
   "outputs": [
    {
     "name": "stdout",
     "output_type": "stream",
     "text": [
      "<class 'dict'>\n"
     ]
    }
   ],
   "source": [
    "x = {\"name\": \"John\", \"age\": 30}   \n",
    "print(type(x))"
   ]
  },
  {
   "cell_type": "code",
   "execution_count": 38,
   "id": "44ebd072-d46d-4556-aa1e-9201aa598c86",
   "metadata": {},
   "outputs": [
    {
     "name": "stdout",
     "output_type": "stream",
     "text": [
      "<class 'list'>\n"
     ]
    }
   ],
   "source": [
    "x = [1, 2, 3]   \n",
    "print(type(x))"
   ]
  },
  {
   "cell_type": "code",
   "execution_count": 42,
   "id": "02e191fa-148c-4172-bf69-d31ac37c1ecd",
   "metadata": {},
   "outputs": [
    {
     "name": "stdout",
     "output_type": "stream",
     "text": [
      "1020\n"
     ]
    }
   ],
   "source": [
    "x = 10   \n",
    "y = \"20\"   \n",
    "print(str(x) + y)"
   ]
  },
  {
   "cell_type": "code",
   "execution_count": 44,
   "id": "541102ae-1985-4757-a1d1-8f077ecfe1cc",
   "metadata": {},
   "outputs": [
    {
     "name": "stdout",
     "output_type": "stream",
     "text": [
      "[1, 2, 3]\n"
     ]
    }
   ],
   "source": [
    "x = [1, 2, 3]   \n",
    "y = x.copy()   \n",
    "x.append(4)  \n",
    "print(y)   "
   ]
  },
  {
   "cell_type": "code",
   "execution_count": 46,
   "id": "c9ea8a02-8969-4710-a8c7-4ea9e333db5d",
   "metadata": {},
   "outputs": [
    {
     "name": "stdout",
     "output_type": "stream",
     "text": [
      "{'c', 'b'}\n"
     ]
    }
   ],
   "source": [
    "x = {\"a\", \"b\", \"c\"}   \n",
    "y = {\"b\", \"c\", \"d\"}   \n",
    "z = x & y   \n",
    "print(z)   "
   ]
  },
  {
   "cell_type": "code",
   "execution_count": 48,
   "id": "4bf3ecc0-a540-4e16-86cd-eaa575e8d26c",
   "metadata": {},
   "outputs": [
    {
     "name": "stdout",
     "output_type": "stream",
     "text": [
      "20 10\n"
     ]
    }
   ],
   "source": [
    "x = 10   \n",
    "y = 20   \n",
    "x, y = y, x   \n",
    "print(x, y) "
   ]
  },
  {
   "cell_type": "code",
   "execution_count": 50,
   "id": "6f237a9f-45c8-4317-b51c-bcd5278adfbd",
   "metadata": {},
   "outputs": [
    {
     "name": "stdout",
     "output_type": "stream",
     "text": [
      "{'a': 1, 'b': 3, 'c': 4}\n"
     ]
    }
   ],
   "source": [
    "x = {\"a\": 1, \"b\": 2}   \n",
    "y = {\"b\": 3, \"c\": 4}   \n",
    "z = {**x, **y}   \n",
    "print(z)   "
   ]
  },
  {
   "cell_type": "code",
   "execution_count": 52,
   "id": "61f6433d-34c7-48a0-9af6-a5a2fad47381",
   "metadata": {},
   "outputs": [
    {
     "name": "stdout",
     "output_type": "stream",
     "text": [
      "set()\n"
     ]
    }
   ],
   "source": [
    "x = {1, 2, 3}   \n",
    "x.clear()   \n",
    "print(x)   "
   ]
  },
  {
   "cell_type": "code",
   "execution_count": 54,
   "id": "6af79098-2a54-4d2e-9877-38fd4dfe0e51",
   "metadata": {},
   "outputs": [
    {
     "name": "stdout",
     "output_type": "stream",
     "text": [
      "HELLO\n"
     ]
    }
   ],
   "source": [
    "x = \"hello\"   \n",
    "y = x.upper()   \n",
    "print(y)"
   ]
  },
  {
   "cell_type": "code",
   "execution_count": 58,
   "id": "750402bc-0ab7-4f66-a09f-e85c5ef9fe86",
   "metadata": {},
   "outputs": [
    {
     "name": "stdout",
     "output_type": "stream",
     "text": [
      "heLlo\n"
     ]
    }
   ],
   "source": [
    "x = \"hello\"   \n",
    "y = x.replace(\"l\", \"L\", 1)  \n",
    "print(y)   "
   ]
  },
  {
   "cell_type": "code",
   "execution_count": 60,
   "id": "b880bc93-b389-4865-a099-f7c2a3a7f4d0",
   "metadata": {},
   "outputs": [
    {
     "name": "stdout",
     "output_type": "stream",
     "text": [
      "(1, 2, [5, 4])\n"
     ]
    }
   ],
   "source": [
    "x = (1, 2, [3, 4])   \n",
    "x[2][0] = 5   \n",
    "print(x)   \n"
   ]
  },
  {
   "cell_type": "code",
   "execution_count": 62,
   "id": "0b268f2b-aa95-4ee6-99b4-9408ac8421ac",
   "metadata": {},
   "outputs": [
    {
     "ename": "KeyError",
     "evalue": "'address'",
     "output_type": "error",
     "traceback": [
      "\u001b[1;31m---------------------------------------------------------------------------\u001b[0m",
      "\u001b[1;31mKeyError\u001b[0m                                  Traceback (most recent call last)",
      "Cell \u001b[1;32mIn[62], line 2\u001b[0m\n\u001b[0;32m      1\u001b[0m x \u001b[38;5;241m=\u001b[39m {\u001b[38;5;124m\"\u001b[39m\u001b[38;5;124mname\u001b[39m\u001b[38;5;124m\"\u001b[39m: \u001b[38;5;124m\"\u001b[39m\u001b[38;5;124mJohn\u001b[39m\u001b[38;5;124m\"\u001b[39m, \u001b[38;5;124m\"\u001b[39m\u001b[38;5;124mage\u001b[39m\u001b[38;5;124m\"\u001b[39m: \u001b[38;5;241m30\u001b[39m}   \n\u001b[1;32m----> 2\u001b[0m \u001b[38;5;28mprint\u001b[39m(\u001b[43mx\u001b[49m\u001b[43m[\u001b[49m\u001b[38;5;124;43m\"\u001b[39;49m\u001b[38;5;124;43maddress\u001b[39;49m\u001b[38;5;124;43m\"\u001b[39;49m\u001b[43m]\u001b[49m)   \n",
      "\u001b[1;31mKeyError\u001b[0m: 'address'"
     ]
    }
   ],
   "source": [
    "x = {\"name\": \"John\", \"age\": 30}   \n",
    "print(x[\"address\"])   "
   ]
  },
  {
   "cell_type": "code",
   "execution_count": 64,
   "id": "1e329f9e-7493-42ca-8df9-a8be206698ef",
   "metadata": {},
   "outputs": [
    {
     "name": "stdout",
     "output_type": "stream",
     "text": [
      "[1, 2, 3]\n"
     ]
    }
   ],
   "source": [
    "x = [1, 2, 3]   \n",
    "y = x[:]   \n",
    "x[0] = 4   \n",
    "print(y)   "
   ]
  },
  {
   "cell_type": "code",
   "execution_count": 2,
   "id": "3ba9ba94-ee9c-40f4-b2a9-540ed16ae2ab",
   "metadata": {},
   "outputs": [
    {
     "name": "stdout",
     "output_type": "stream",
     "text": [
      "john\n"
     ]
    }
   ],
   "source": [
    "x = {\"name\":\"john\",\"age\":30}\n",
    "y = x.copy()\n",
    "x[\"name\"] = \"jane\"\n",
    "print(y[\"name\"])"
   ]
  },
  {
   "cell_type": "code",
   "execution_count": 4,
   "id": "86ba8704-5f1c-4c16-9811-ffddaeedf8a4",
   "metadata": {},
   "outputs": [
    {
     "name": "stdout",
     "output_type": "stream",
     "text": [
      "cherry\n"
     ]
    }
   ],
   "source": [
    "x = {\"apple\", \"banana\", \"cherry\"}   \n",
    "y = x.pop()   \n",
    "print(y)   "
   ]
  },
  {
   "cell_type": "code",
   "execution_count": 6,
   "id": "0d568130-1082-40c1-889c-f64321ffe3b5",
   "metadata": {},
   "outputs": [
    {
     "name": "stdout",
     "output_type": "stream",
     "text": [
      "[1, 4, 2, 3]\n"
     ]
    }
   ],
   "source": [
    "x = [1, 2, 3]   \n",
    "x.insert(1, 4)  \n",
    "print(x) "
   ]
  },
  {
   "cell_type": "code",
   "execution_count": 8,
   "id": "1f550482-b148-4bbd-a00e-67b39188ca17",
   "metadata": {},
   "outputs": [
    {
     "name": "stdout",
     "output_type": "stream",
     "text": [
      "{'c', 'a'}\n"
     ]
    }
   ],
   "source": [
    "x = {\"a\", \"b\", \"c\"}   \n",
    "y = x - {\"b\"}   \n",
    "print(y)"
   ]
  },
  {
   "cell_type": "code",
   "execution_count": 10,
   "id": "2ca884d3-9f6f-4658-a8f3-e5ad8ebe0406",
   "metadata": {},
   "outputs": [
    {
     "name": "stdout",
     "output_type": "stream",
     "text": [
      "{1, 2, 3, 4}\n"
     ]
    }
   ],
   "source": [
    "x = {1,2,3}\n",
    "y = x.add(4)  \n",
    "print(x)  "
   ]
  },
  {
   "cell_type": "code",
   "execution_count": 12,
   "id": "971b19e0-5f72-4b16-b4d4-334210d5f167",
   "metadata": {},
   "outputs": [
    {
     "name": "stdout",
     "output_type": "stream",
     "text": [
      "25\n"
     ]
    }
   ],
   "source": [
    "age = 25\n",
    "print(age)"
   ]
  },
  {
   "cell_type": "code",
   "execution_count": 16,
   "id": "574a1db6-2721-43b3-91a1-23a7fb9a1cf2",
   "metadata": {},
   "outputs": [
    {
     "name": "stdout",
     "output_type": "stream",
     "text": [
      "19\n"
     ]
    }
   ],
   "source": [
    "number = 20\n",
    "print(20 - 1)"
   ]
  },
  {
   "cell_type": "code",
   "execution_count": 18,
   "id": "85ac64a2-bbe6-415c-aa5b-c9d3d8a32326",
   "metadata": {},
   "outputs": [
    {
     "name": "stdout",
     "output_type": "stream",
     "text": [
      "code chef\n"
     ]
    }
   ],
   "source": [
    "firstname = 'code'\n",
    "surename = 'chef'\n",
    "print('code','chef')"
   ]
  },
  {
   "cell_type": "code",
   "execution_count": 20,
   "id": "4f0508e5-e3d3-453b-b794-49ab23feb652",
   "metadata": {},
   "outputs": [
    {
     "name": "stdout",
     "output_type": "stream",
     "text": [
      "43\n"
     ]
    }
   ],
   "source": [
    "a = 23\n",
    "b = 20\n",
    "sum = a + b\n",
    "print(sum)"
   ]
  },
  {
   "cell_type": "code",
   "execution_count": 24,
   "id": "a53328c9-08e5-4a7a-8ec4-e3fe62df6300",
   "metadata": {},
   "outputs": [
    {
     "name": "stdout",
     "output_type": "stream",
     "text": [
      "3420\n"
     ]
    }
   ],
   "source": [
    "length = 45\n",
    "breath = 76\n",
    "Area_of_rectangle = length * breath\n",
    "print(Area_of_rectangle)"
   ]
  },
  {
   "cell_type": "code",
   "execution_count": 26,
   "id": "29296667-9f31-4d2d-a8c2-238025df46ec",
   "metadata": {},
   "outputs": [
    {
     "name": "stdout",
     "output_type": "stream",
     "text": [
      "248.71940000000004\n"
     ]
    }
   ],
   "source": [
    "radius = 8.9\n",
    "pi = 3.14\n",
    "Area_of_circle = pi * radius * radius\n",
    "print(Area_of_circle)"
   ]
  },
  {
   "cell_type": "code",
   "execution_count": 30,
   "id": "806f66b1-2c32-4b73-a89f-4cf9cd6841ef",
   "metadata": {},
   "outputs": [
    {
     "name": "stdout",
     "output_type": "stream",
     "text": [
      "Learning is fun!\n"
     ]
    }
   ],
   "source": [
    "a = 'Learning'\n",
    "b = 'is fun!'\n",
    "print(a ,b)"
   ]
  },
  {
   "cell_type": "code",
   "execution_count": null,
   "id": "7c84244b-7568-4e9f-aa94-978780e3df61",
   "metadata": {},
   "outputs": [],
   "source": []
  }
 ],
 "metadata": {
  "kernelspec": {
   "display_name": "Python 3 (ipykernel)",
   "language": "python",
   "name": "python3"
  },
  "language_info": {
   "codemirror_mode": {
    "name": "ipython",
    "version": 3
   },
   "file_extension": ".py",
   "mimetype": "text/x-python",
   "name": "python",
   "nbconvert_exporter": "python",
   "pygments_lexer": "ipython3",
   "version": "3.12.4"
  }
 },
 "nbformat": 4,
 "nbformat_minor": 5
}
