{
 "cells": [
  {
   "cell_type": "markdown",
   "id": "5c0f1563-80b5-44d3-9ccd-23327a541544",
   "metadata": {},
   "source": [
    "# Tuple creation"
   ]
  },
  {
   "cell_type": "code",
   "execution_count": 84,
   "id": "4841e8ec-41ab-4f6f-bc6d-7fb84a6536b3",
   "metadata": {},
   "outputs": [],
   "source": [
    "tup1 = ()"
   ]
  },
  {
   "cell_type": "code",
   "execution_count": 86,
   "id": "936b44c4-b49d-4743-81fd-e6ca21e14c82",
   "metadata": {},
   "outputs": [],
   "source": [
    "tup2 = (10,30,60)"
   ]
  },
  {
   "cell_type": "code",
   "execution_count": 88,
   "id": "57a64f02-53fb-4354-88e6-78783d0e8e9e",
   "metadata": {},
   "outputs": [],
   "source": [
    "tup3 =(10.77,30.66,60.89)"
   ]
  },
  {
   "cell_type": "code",
   "execution_count": 90,
   "id": "e841a6e7-10df-43a5-934e-a1d13425758c",
   "metadata": {},
   "outputs": [],
   "source": [
    "tup4 = ('one','two',\"three\")"
   ]
  },
  {
   "cell_type": "code",
   "execution_count": 92,
   "id": "b3f3b2a5-923f-4147-af30-801af23f1228",
   "metadata": {},
   "outputs": [],
   "source": [
    "tup5 = ('Asif',25,(50,100),(150,90)) #nested tuples"
   ]
  },
  {
   "cell_type": "code",
   "execution_count": 94,
   "id": "d004c6d6-b16e-4d76-913c-39e3ca2038b4",
   "metadata": {},
   "outputs": [],
   "source": [
    "tup6 = (100,'Asif',17.765)"
   ]
  },
  {
   "cell_type": "code",
   "execution_count": 96,
   "id": "ec002ab4-ada4-4d22-a872-9a5ffe5902cc",
   "metadata": {},
   "outputs": [],
   "source": [
    "tup7 = ('Asif',25,[50,100],[150,90],{'john','David'},(99,22,33))"
   ]
  },
  {
   "cell_type": "code",
   "execution_count": 98,
   "id": "c3eb6d5f-e178-44ed-b9f6-90c10da55d63",
   "metadata": {},
   "outputs": [
    {
     "data": {
      "text/plain": [
       "6"
      ]
     },
     "execution_count": 98,
     "metadata": {},
     "output_type": "execute_result"
    }
   ],
   "source": [
    "len(tup7)"
   ]
  },
  {
   "cell_type": "markdown",
   "id": "604e6c89-16bd-4b8e-90b8-8738c54ddc46",
   "metadata": {},
   "source": [
    "# Tuple Indexing"
   ]
  },
  {
   "cell_type": "code",
   "execution_count": 101,
   "id": "a29b0ee9-d808-45db-8a27-aa9049d5c41c",
   "metadata": {},
   "outputs": [
    {
     "data": {
      "text/plain": [
       "10"
      ]
     },
     "execution_count": 101,
     "metadata": {},
     "output_type": "execute_result"
    }
   ],
   "source": [
    "tup2[0] #retrive first element of tuple"
   ]
  },
  {
   "cell_type": "code",
   "execution_count": 103,
   "id": "b272b651-0708-496f-83f2-cba26ff63aa4",
   "metadata": {},
   "outputs": [
    {
     "data": {
      "text/plain": [
       "'one'"
      ]
     },
     "execution_count": 103,
     "metadata": {},
     "output_type": "execute_result"
    }
   ],
   "source": [
    "tup4[0] "
   ]
  },
  {
   "cell_type": "code",
   "execution_count": 105,
   "id": "0e2849bf-d7fe-49bd-be75-414fddde83f1",
   "metadata": {},
   "outputs": [
    {
     "data": {
      "text/plain": [
       "'o'"
      ]
     },
     "execution_count": 105,
     "metadata": {},
     "output_type": "execute_result"
    }
   ],
   "source": [
    "tup4[0][0]"
   ]
  },
  {
   "cell_type": "code",
   "execution_count": 107,
   "id": "bf11a670-dc0d-42a2-a8d0-6b38f60a8a14",
   "metadata": {},
   "outputs": [
    {
     "data": {
      "text/plain": [
       "'three'"
      ]
     },
     "execution_count": 107,
     "metadata": {},
     "output_type": "execute_result"
    }
   ],
   "source": [
    "tup4[-1]"
   ]
  },
  {
   "cell_type": "code",
   "execution_count": 109,
   "id": "cfce38e9-d63a-4e14-81e5-ed88e56e2355",
   "metadata": {},
   "outputs": [
    {
     "data": {
      "text/plain": [
       "(150, 90)"
      ]
     },
     "execution_count": 109,
     "metadata": {},
     "output_type": "execute_result"
    }
   ],
   "source": [
    "tup5[-1]"
   ]
  },
  {
   "cell_type": "markdown",
   "id": "bc9b3471-e51d-4daf-9ca1-9aa33ba41279",
   "metadata": {},
   "source": [
    "# Tuple Slicing"
   ]
  },
  {
   "cell_type": "code",
   "execution_count": 112,
   "id": "b4395d7e-f443-4815-9cea-5c31463784cd",
   "metadata": {},
   "outputs": [],
   "source": [
    "mytuple  = ('one','two','three','four','five','six','seven','eight')"
   ]
  },
  {
   "cell_type": "code",
   "execution_count": 114,
   "id": "23401bbd-0aa9-4763-befd-aa2593e93206",
   "metadata": {},
   "outputs": [
    {
     "data": {
      "text/plain": [
       "('one', 'two', 'three')"
      ]
     },
     "execution_count": 114,
     "metadata": {},
     "output_type": "execute_result"
    }
   ],
   "source": [
    "mytuple[0:3] # Return all items from 0th to 3rd index location excluding item"
   ]
  },
  {
   "cell_type": "code",
   "execution_count": 116,
   "id": "477a9520-9e00-46b6-9a60-dce2d451b944",
   "metadata": {},
   "outputs": [
    {
     "data": {
      "text/plain": [
       "('three', 'four', 'five')"
      ]
     },
     "execution_count": 116,
     "metadata": {},
     "output_type": "execute_result"
    }
   ],
   "source": [
    "mytuple[2:5]"
   ]
  },
  {
   "cell_type": "code",
   "execution_count": 118,
   "id": "af4ebc9a-bc9e-4254-914d-b6ecacb52b04",
   "metadata": {},
   "outputs": [
    {
     "data": {
      "text/plain": [
       "('one', 'two', 'three')"
      ]
     },
     "execution_count": 118,
     "metadata": {},
     "output_type": "execute_result"
    }
   ],
   "source": [
    "mytuple[:3] #return first three items"
   ]
  },
  {
   "cell_type": "code",
   "execution_count": 120,
   "id": "e0097bfc-efd2-491a-8a43-c93689292b62",
   "metadata": {},
   "outputs": [
    {
     "data": {
      "text/plain": [
       "('one', 'two')"
      ]
     },
     "execution_count": 120,
     "metadata": {},
     "output_type": "execute_result"
    }
   ],
   "source": [
    "mytuple[:2] #return first two items"
   ]
  },
  {
   "cell_type": "code",
   "execution_count": 122,
   "id": "3b081d3d-53be-4831-8644-3e9e5d2bc0bf",
   "metadata": {},
   "outputs": [
    {
     "data": {
      "text/plain": [
       "('six', 'seven', 'eight')"
      ]
     },
     "execution_count": 122,
     "metadata": {},
     "output_type": "execute_result"
    }
   ],
   "source": [
    "mytuple[-3:] #return last three items"
   ]
  },
  {
   "cell_type": "code",
   "execution_count": 124,
   "id": "77aebbd9-d8d7-449d-9dc7-5359b6de2d07",
   "metadata": {},
   "outputs": [
    {
     "data": {
      "text/plain": [
       "('seven', 'eight')"
      ]
     },
     "execution_count": 124,
     "metadata": {},
     "output_type": "execute_result"
    }
   ],
   "source": [
    "mytuple[-2:] #return last two items"
   ]
  },
  {
   "cell_type": "code",
   "execution_count": 126,
   "id": "2128e04b-4132-41a2-89e1-2770f0b28055",
   "metadata": {},
   "outputs": [
    {
     "data": {
      "text/plain": [
       "'eight'"
      ]
     },
     "execution_count": 126,
     "metadata": {},
     "output_type": "execute_result"
    }
   ],
   "source": [
    "mytuple[-1] #return last item of tuple"
   ]
  },
  {
   "cell_type": "code",
   "execution_count": 128,
   "id": "e919aa5e-2d71-45a6-8723-b62cd1007c25",
   "metadata": {},
   "outputs": [
    {
     "data": {
      "text/plain": [
       "('one', 'two', 'three', 'four', 'five', 'six', 'seven', 'eight')"
      ]
     },
     "execution_count": 128,
     "metadata": {},
     "output_type": "execute_result"
    }
   ],
   "source": [
    "mytuple[:] # return whole tuple"
   ]
  },
  {
   "cell_type": "markdown",
   "id": "6d59e105-7d3c-4b3d-b38c-7899f02bdad5",
   "metadata": {},
   "source": [
    "# Remove & chnge items"
   ]
  },
  {
   "cell_type": "code",
   "execution_count": 131,
   "id": "62f8f9fd-db65-42db-afd0-e6c031efd6ec",
   "metadata": {},
   "outputs": [
    {
     "data": {
      "text/plain": [
       "('one', 'two', 'three', 'four', 'five', 'six', 'seven', 'eight')"
      ]
     },
     "execution_count": 131,
     "metadata": {},
     "output_type": "execute_result"
    }
   ],
   "source": [
    "mytuple"
   ]
  },
  {
   "cell_type": "code",
   "execution_count": 133,
   "id": "65e30292-3fd0-42e4-bc1d-b816ac02496c",
   "metadata": {},
   "outputs": [
    {
     "ename": "TypeError",
     "evalue": "'tuple' object doesn't support item deletion",
     "output_type": "error",
     "traceback": [
      "\u001b[1;31m------------------------------------------------------------------------\u001b[0m",
      "\u001b[1;31mTypeError\u001b[0m                              Traceback (most recent call last)",
      "Cell \u001b[1;32mIn[133], line 1\u001b[0m\n\u001b[1;32m----> 1\u001b[0m \u001b[38;5;28;01mdel\u001b[39;00m \u001b[43mmytuple\u001b[49m\u001b[43m[\u001b[49m\u001b[38;5;241;43m0\u001b[39;49m\u001b[43m]\u001b[49m \u001b[38;5;66;03m# Tuples are immutable which means we canonot delete tuple items\u001b[39;00m\n",
      "\u001b[1;31mTypeError\u001b[0m: 'tuple' object doesn't support item deletion"
     ]
    }
   ],
   "source": [
    "del mytuple[0] # Tuples are immutable which means we canonot delete tuple items"
   ]
  },
  {
   "cell_type": "code",
   "execution_count": 135,
   "id": "f303696a-52f0-4f74-a37c-479ca8447d09",
   "metadata": {},
   "outputs": [
    {
     "ename": "TypeError",
     "evalue": "'tuple' object does not support item assignment",
     "output_type": "error",
     "traceback": [
      "\u001b[1;31m------------------------------------------------------------------------\u001b[0m",
      "\u001b[1;31mTypeError\u001b[0m                              Traceback (most recent call last)",
      "Cell \u001b[1;32mIn[135], line 1\u001b[0m\n\u001b[1;32m----> 1\u001b[0m \u001b[43mmytuple\u001b[49m\u001b[43m[\u001b[49m\u001b[38;5;241;43m0\u001b[39;49m\u001b[43m]\u001b[49m \u001b[38;5;241m=\u001b[39m \u001b[38;5;241m1\u001b[39m \u001b[38;5;66;03m# Tuples are immutable which means we canont change tuple items\u001b[39;00m\n",
      "\u001b[1;31mTypeError\u001b[0m: 'tuple' object does not support item assignment"
     ]
    }
   ],
   "source": [
    "mytuple[0] = 1 # Tuples are immutable which means we canont change tuple items"
   ]
  },
  {
   "cell_type": "code",
   "execution_count": null,
   "id": "13342e0f-e285-4aa5-99d8-98babeefcf71",
   "metadata": {},
   "outputs": [],
   "source": [
    "del mytuple #Deleting entire tuple object is possible"
   ]
  },
  {
   "cell_type": "markdown",
   "id": "54294db1-7be5-4520-b503-57febe096d89",
   "metadata": {},
   "source": [
    "# loop through a tuple"
   ]
  },
  {
   "cell_type": "code",
   "execution_count": 139,
   "id": "c5fd3952-ad36-40cf-b9ea-f24064f76b62",
   "metadata": {},
   "outputs": [
    {
     "data": {
      "text/plain": [
       "('one', 'two', 'three', 'four', 'five', 'six', 'seven', 'eight')"
      ]
     },
     "execution_count": 139,
     "metadata": {},
     "output_type": "execute_result"
    }
   ],
   "source": [
    "mytuple"
   ]
  },
  {
   "cell_type": "code",
   "execution_count": 141,
   "id": "1c3ebd78-e56e-46b7-987a-a7599f73c576",
   "metadata": {},
   "outputs": [
    {
     "name": "stdout",
     "output_type": "stream",
     "text": [
      "one\n",
      "two\n",
      "three\n",
      "four\n",
      "five\n",
      "six\n",
      "seven\n",
      "eight\n"
     ]
    }
   ],
   "source": [
    "for i in mytuple:\n",
    "    print(i)"
   ]
  },
  {
   "cell_type": "code",
   "execution_count": 143,
   "id": "48d1ead1-0f25-443b-932a-2040fda0f9d9",
   "metadata": {},
   "outputs": [
    {
     "name": "stdout",
     "output_type": "stream",
     "text": [
      "(0, 'one')\n",
      "(1, 'two')\n",
      "(2, 'three')\n",
      "(3, 'four')\n",
      "(4, 'five')\n",
      "(5, 'six')\n",
      "(6, 'seven')\n",
      "(7, 'eight')\n"
     ]
    }
   ],
   "source": [
    "for i in enumerate (mytuple):\n",
    "    print(i)"
   ]
  },
  {
   "cell_type": "markdown",
   "id": "e4af36d7-2691-4826-8f30-615014ccceed",
   "metadata": {},
   "source": [
    "# Tuple Membership"
   ]
  },
  {
   "cell_type": "code",
   "execution_count": 147,
   "id": "98fcae26-8418-4fc9-aff3-6c979224fb21",
   "metadata": {},
   "outputs": [
    {
     "data": {
      "text/plain": [
       "('one', 'two', 'three', 'four', 'five', 'six', 'seven', 'eight')"
      ]
     },
     "execution_count": 147,
     "metadata": {},
     "output_type": "execute_result"
    }
   ],
   "source": [
    "mytuple"
   ]
  },
  {
   "cell_type": "code",
   "execution_count": 149,
   "id": "bbd50c38-50dd-4a39-b61e-cefab5da08b1",
   "metadata": {},
   "outputs": [
    {
     "data": {
      "text/plain": [
       "True"
      ]
     },
     "execution_count": 149,
     "metadata": {},
     "output_type": "execute_result"
    }
   ],
   "source": [
    "'one' in mytuple #check if 'one' exist list"
   ]
  },
  {
   "cell_type": "code",
   "execution_count": 151,
   "id": "6fcdead7-b4d6-4985-866a-45e696cb6055",
   "metadata": {},
   "outputs": [
    {
     "data": {
      "text/plain": [
       "False"
      ]
     },
     "execution_count": 151,
     "metadata": {},
     "output_type": "execute_result"
    }
   ],
   "source": [
    "'ten' in mytuple"
   ]
  },
  {
   "cell_type": "code",
   "execution_count": 153,
   "id": "b601cfea-eac8-4987-870f-41663751f88f",
   "metadata": {},
   "outputs": [
    {
     "name": "stdout",
     "output_type": "stream",
     "text": [
      "eleven is  present in tuple\n"
     ]
    }
   ],
   "source": [
    "if 'three' in mytuple:\n",
    "    print(\"eleven is  present in tuple\")\n",
    "else:\n",
    "    print(\"eleven is not present\")"
   ]
  },
  {
   "cell_type": "markdown",
   "id": "40485bb3-48ec-442d-8f02-b756b3f158ad",
   "metadata": {},
   "source": [
    "# index position"
   ]
  },
  {
   "cell_type": "code",
   "execution_count": 156,
   "id": "9b6b35b2-d71f-4802-ad59-1e1ff689f2b7",
   "metadata": {},
   "outputs": [
    {
     "data": {
      "text/plain": [
       "('one', 'two', 'three', 'four', 'five', 'six', 'seven', 'eight')"
      ]
     },
     "execution_count": 156,
     "metadata": {},
     "output_type": "execute_result"
    }
   ],
   "source": [
    "mytuple"
   ]
  },
  {
   "cell_type": "code",
   "execution_count": 158,
   "id": "46dfa663-fb16-47a3-8c78-a178f802fced",
   "metadata": {},
   "outputs": [
    {
     "data": {
      "text/plain": [
       "0"
      ]
     },
     "execution_count": 158,
     "metadata": {},
     "output_type": "execute_result"
    }
   ],
   "source": [
    "mytuple.index('one')"
   ]
  },
  {
   "cell_type": "code",
   "execution_count": 160,
   "id": "be4b0511-1336-491c-98be-39f07101e30f",
   "metadata": {},
   "outputs": [
    {
     "data": {
      "text/plain": [
       "4"
      ]
     },
     "execution_count": 160,
     "metadata": {},
     "output_type": "execute_result"
    }
   ],
   "source": [
    "mytuple.index('five')"
   ]
  },
  {
   "cell_type": "code",
   "execution_count": 164,
   "id": "7c3100ad-7bbf-4481-bad6-0cec907482f0",
   "metadata": {},
   "outputs": [
    {
     "data": {
      "text/plain": [
       "('one', 'two', 'three', 'four', 'five', 'six', 'seven', 'eight')"
      ]
     },
     "execution_count": 164,
     "metadata": {},
     "output_type": "execute_result"
    }
   ],
   "source": [
    "mytuple"
   ]
  },
  {
   "cell_type": "code",
   "execution_count": 170,
   "id": "9e6f4017-eb86-4b2a-aa59-fcdc1b527585",
   "metadata": {},
   "outputs": [],
   "source": [
    "mytuple1 = ('one','two','three','four','one','one','two','three')"
   ]
  },
  {
   "cell_type": "code",
   "execution_count": 172,
   "id": "62c09bc2-2800-4608-a010-cc989d31cc32",
   "metadata": {},
   "outputs": [
    {
     "data": {
      "text/plain": [
       "0"
      ]
     },
     "execution_count": 172,
     "metadata": {},
     "output_type": "execute_result"
    }
   ],
   "source": [
    "mytuple1.index('one')"
   ]
  },
  {
   "cell_type": "markdown",
   "id": "a4b1212c-d1a3-419e-bd51-fafb3742901b",
   "metadata": {},
   "source": [
    "# Sorting"
   ]
  },
  {
   "cell_type": "code",
   "execution_count": 174,
   "id": "d7bb01d4-4f90-413b-af43-a8166bb8b1f5",
   "metadata": {},
   "outputs": [],
   "source": [
    "mytuple2 = (43,67,99,12,6,90,67)"
   ]
  },
  {
   "cell_type": "code",
   "execution_count": 177,
   "id": "25339dfb-2358-442a-82bb-6618c04ed91b",
   "metadata": {},
   "outputs": [
    {
     "data": {
      "text/plain": [
       "[6, 12, 43, 67, 67, 90, 99]"
      ]
     },
     "execution_count": 177,
     "metadata": {},
     "output_type": "execute_result"
    }
   ],
   "source": [
    "sorted(mytuple2)#return a new sorted list and doesnot change origional tuple"
   ]
  },
  {
   "cell_type": "code",
   "execution_count": 179,
   "id": "173c82a2-6fed-4d92-96eb-bf20a247cfca",
   "metadata": {},
   "outputs": [
    {
     "data": {
      "text/plain": [
       "['two', 'two', 'three', 'three', 'one', 'one', 'one', 'four']"
      ]
     },
     "execution_count": 179,
     "metadata": {},
     "output_type": "execute_result"
    }
   ],
   "source": [
    "sorted(mytuple, reverse=True) #Sort in descending order"
   ]
  },
  {
   "cell_type": "code",
   "execution_count": null,
   "id": "9270edd0-e49d-4b45-9403-bdf576d92749",
   "metadata": {},
   "outputs": [],
   "source": []
  }
 ],
 "metadata": {
  "kernelspec": {
   "display_name": "Python 3 (ipykernel)",
   "language": "python",
   "name": "python3"
  },
  "language_info": {
   "codemirror_mode": {
    "name": "ipython",
    "version": 3
   },
   "file_extension": ".py",
   "mimetype": "text/x-python",
   "name": "python",
   "nbconvert_exporter": "python",
   "pygments_lexer": "ipython3",
   "version": "3.12.4"
  }
 },
 "nbformat": 4,
 "nbformat_minor": 5
}
